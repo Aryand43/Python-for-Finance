{
 "cells": [
  {
   "cell_type": "code",
   "execution_count": null,
   "id": "72d9cf7f-d77b-4a46-9017-97afa55ede8c",
   "metadata": {},
   "outputs": [],
   "source": [
    "lambda var: var*2 "
   ]
  }
 ],
 "metadata": {
  "kernelspec": {
   "display_name": "Python 3 (ipykernel)",
   "language": "python",
   "name": "python3"
  },
  "language_info": {
   "codemirror_mode": {
    "name": "ipython",
    "version": 3
   },
   "file_extension": ".py",
   "mimetype": "text/x-python",
   "name": "python",
   "nbconvert_exporter": "python",
   "pygments_lexer": "ipython3",
   "version": "3.11.9"
  }
 },
 "nbformat": 4,
 "nbformat_minor": 5
}
